{
 "cells": [
  {
   "cell_type": "code",
   "execution_count": 19,
   "metadata": {},
   "outputs": [
    {
     "name": "stdout",
     "output_type": "stream",
     "text": [
      "2\n",
      "5\n",
      "1 2 3 4 5\n",
      "6 5 4 3 2\n",
      "WIN\n",
      "4\n",
      "1 2 3 4\n",
      "6 7 8 9\n",
      "WIN\n"
     ]
    }
   ],
   "source": [
    "import numpy as np;\n",
    "t = int(input())\n",
    "while t > 0:\n",
    "    N = int(input())   # take single Integer input\n",
    "    arr_v=input() # takes the whole line of n numbers\n",
    "    arr_p=input() # takes the whole line of n numbers\n",
    "    V = list(map(int,arr_v.split(' ')))\n",
    "    P = list(map(int,arr_p.split(' ')))\n",
    "    V.sort(reverse=True)\n",
    "    P.sort(reverse=True)\n",
    "    i=0\n",
    "    win=0\n",
    "    while i < N:\n",
    "        if P[i] <= V[i]:\n",
    "            win=1\n",
    "        i=i+1\n",
    "    if win==1 :\n",
    "        print(\"LOSE\")\n",
    "    else :\n",
    "        print(\"WIN\")\n",
    "            \n",
    "    t=t-1"
   ]
  },
  {
   "cell_type": "code",
   "execution_count": 22,
   "metadata": {},
   "outputs": [
    {
     "name": "stdout",
     "output_type": "stream",
     "text": [
      "2\n",
      "3\n",
      "2 3 4\n"
     ]
    },
    {
     "ename": "TypeError",
     "evalue": "'str' object does not support item assignment",
     "output_type": "error",
     "traceback": [
      "\u001b[1;31m---------------------------------------------------------------------------\u001b[0m",
      "\u001b[1;31mTypeError\u001b[0m                                 Traceback (most recent call last)",
      "\u001b[1;32m<ipython-input-22-3c272287bb2d>\u001b[0m in \u001b[0;36m<module>\u001b[1;34m()\u001b[0m\n\u001b[0;32m      3\u001b[0m \u001b[1;32mwhile\u001b[0m \u001b[0mt\u001b[0m \u001b[1;33m>\u001b[0m \u001b[1;36m0\u001b[0m\u001b[1;33m:\u001b[0m\u001b[1;33m\u001b[0m\u001b[1;33m\u001b[0m\u001b[0m\n\u001b[0;32m      4\u001b[0m     \u001b[0mN\u001b[0m \u001b[1;33m=\u001b[0m \u001b[0mint\u001b[0m\u001b[1;33m(\u001b[0m\u001b[0minput\u001b[0m\u001b[1;33m(\u001b[0m\u001b[1;33m)\u001b[0m\u001b[1;33m)\u001b[0m   \u001b[1;31m# take single Integer input\u001b[0m\u001b[1;33m\u001b[0m\u001b[1;33m\u001b[0m\u001b[0m\n\u001b[1;32m----> 5\u001b[1;33m     \u001b[0marr_v\u001b[0m\u001b[1;33m[\u001b[0m\u001b[0mt\u001b[0m\u001b[1;33m]\u001b[0m\u001b[1;33m=\u001b[0m\u001b[0minput\u001b[0m\u001b[1;33m(\u001b[0m\u001b[1;33m)\u001b[0m \u001b[1;31m# takes the whole line of n numbers\u001b[0m\u001b[1;33m\u001b[0m\u001b[1;33m\u001b[0m\u001b[0m\n\u001b[0m\u001b[0;32m      6\u001b[0m     \u001b[0marr_p\u001b[0m\u001b[1;33m[\u001b[0m\u001b[0mt\u001b[0m\u001b[1;33m]\u001b[0m\u001b[1;33m=\u001b[0m\u001b[0minput\u001b[0m\u001b[1;33m(\u001b[0m\u001b[1;33m)\u001b[0m \u001b[1;31m# takes the whole line of n numbers\u001b[0m\u001b[1;33m\u001b[0m\u001b[1;33m\u001b[0m\u001b[0m\n\u001b[0;32m      7\u001b[0m     \u001b[0mt\u001b[0m\u001b[1;33m=\u001b[0m\u001b[0mt\u001b[0m\u001b[1;33m-\u001b[0m\u001b[1;36m1\u001b[0m\u001b[1;33m\u001b[0m\u001b[1;33m\u001b[0m\u001b[0m\n",
      "\u001b[1;31mTypeError\u001b[0m: 'str' object does not support item assignment"
     ]
    }
   ],
   "source": [
    "import numpy as np;\n",
    "t = int(input())\n",
    "while t > 0:\n",
    "    N = int(input())   # take single Integer input\n",
    "    arr_v[t]=input() # takes the whole line of n numbers\n",
    "    arr_p[t]=input() # takes the whole line of n numbers\n",
    "    t=t-1"
   ]
  },
  {
   "cell_type": "code",
   "execution_count": null,
   "metadata": {
    "collapsed": true
   },
   "outputs": [],
   "source": [
    "import numpy as np;\n",
    "t = int(input())\n",
    "while t > 0:\n",
    "    N = int(input())   # take single Integer input\n",
    "    arr_v_&i=input() # takes the whole line of n numbers\n",
    "    arr_p_&i=input() # takes the whole line of n numbers\n",
    "    V = list(map(int,arr_v.split(' ')))\n",
    "    P = list(map(int,arr_p.split(' ')))\n",
    "    t=t-1\n",
    "    \n",
    "    V.sort(reverse=True)\n",
    "    P.sort(reverse=True)\n",
    "    i=0\n",
    "    win=0\n",
    "    while i < N:\n",
    "        if P[i] <= V[i]:\n",
    "            win=1\n",
    "        i=i+1\n",
    "    if win==1 :\n",
    "        print(\"LOSE\")\n",
    "    else :\n",
    "        print(\"WIN\")\n",
    "            \n",
    "    "
   ]
  }
 ],
 "metadata": {
  "kernelspec": {
   "display_name": "Python 3",
   "language": "python",
   "name": "python3"
  },
  "language_info": {
   "codemirror_mode": {
    "name": "ipython",
    "version": 3
   },
   "file_extension": ".py",
   "mimetype": "text/x-python",
   "name": "python",
   "nbconvert_exporter": "python",
   "pygments_lexer": "ipython3",
   "version": "3.6.8"
  }
 },
 "nbformat": 4,
 "nbformat_minor": 2
}
